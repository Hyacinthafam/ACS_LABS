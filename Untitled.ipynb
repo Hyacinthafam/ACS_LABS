{
 "cells": [
  {
   "cell_type": "code",
   "execution_count": 2,
   "id": "db3ed9c6",
   "metadata": {},
   "outputs": [
    {
     "name": "stdout",
     "output_type": "stream",
     "text": [
      "-0.7568024953079282\n"
     ]
    }
   ],
   "source": [
    "import math\n",
    "print(math.sin(4))"
   ]
  },
  {
   "cell_type": "code",
   "execution_count": null,
   "id": "0e20f24e",
   "metadata": {},
   "outputs": [],
   "source": [
    "print (5/8)"
   ]
  },
  {
   "cell_type": "code",
   "execution_count": null,
   "id": "8fb2f180",
   "metadata": {},
   "outputs": [],
   "source": []
  },
  {
   "cell_type": "code",
   "execution_count": null,
   "id": "c7af5995",
   "metadata": {},
   "outputs": [],
   "source": []
  },
  {
   "cell_type": "code",
   "execution_count": null,
   "id": "f03212cc",
   "metadata": {},
   "outputs": [],
   "source": []
  },
  {
   "cell_type": "code",
   "execution_count": null,
   "id": "72b60e2a",
   "metadata": {},
   "outputs": [],
   "source": []
  }
 ],
 "metadata": {
  "kernelspec": {
   "display_name": "Python 3 (ipykernel)",
   "language": "python",
   "name": "python3"
  },
  "language_info": {
   "codemirror_mode": {
    "name": "ipython",
    "version": 3
   },
   "file_extension": ".py",
   "mimetype": "text/x-python",
   "name": "python",
   "nbconvert_exporter": "python",
   "pygments_lexer": "ipython3",
   "version": "3.10.7"
  }
 },
 "nbformat": 4,
 "nbformat_minor": 5
}
