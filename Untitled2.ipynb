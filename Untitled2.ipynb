{
 "cells": [
  {
   "cell_type": "code",
   "execution_count": 1,
   "id": "7c28c584",
   "metadata": {},
   "outputs": [
    {
     "ename": "SyntaxError",
     "evalue": "invalid non-printable character U+00A0 (1013866842.py, line 2)",
     "output_type": "error",
     "traceback": [
      "\u001b[1;36m  Cell \u001b[1;32mIn [1], line 2\u001b[1;36m\u001b[0m\n\u001b[1;33m    import matplotlib.pyplot as plt # Initial population of bacteria\u001b[0m\n\u001b[1;37m                                   ^\u001b[0m\n\u001b[1;31mSyntaxError\u001b[0m\u001b[1;31m:\u001b[0m invalid non-printable character U+00A0\n"
     ]
    }
   ],
   "source": [
    "import numpy as np\n",
    "import matplotlib.pyplot as plt # Initial population of bacteria\n",
    "population = 100 # Continuous growth rate of 10% per hour\n",
    "growth_rate = 0.10 # Time steps (0.0001, 0.25, 0.5) in hours\n",
    "time_steps = [0.0001, 0.25, 0.5] # Simulation length of 200 hours\n",
    "simulation_length = 200 # Plotting variables\n",
    "times = []\n",
    "populations = [] # Loop through each time step\n",
    "for time_step in time_steps:\n",
    "    # Reset variables for each time step\n",
    "    time = 0\n",
    "    population = 100\n",
    "    times = []\n",
    "    populations = []     # Loop through the simulation length\n",
    "    while time <= simulation_length:\n",
    "        # Calculate the new population\n",
    "        population = population * (1 + growth_rate * time_step)\n",
    "        # Add the new time and population to the arrays\n",
    "        times.append(time)\n",
    "        populations.append(population)\n",
    "        # Increase the time by the time step\n",
    "        time += time_step     # Plot the population against time\n",
    "    plt.plot(times, populations, label=f\"Time step: {time_step}\") # Add a legend to the plot\n",
    "plt.legend() # Show the plot\n",
    "plt.show()"
   ]
  },
  {
   "cell_type": "code",
   "execution_count": null,
   "id": "679f6e0b",
   "metadata": {},
   "outputs": [],
   "source": []
  },
  {
   "cell_type": "code",
   "execution_count": null,
   "id": "2a2909b3",
   "metadata": {},
   "outputs": [],
   "source": []
  }
 ],
 "metadata": {
  "kernelspec": {
   "display_name": "Python 3 (ipykernel)",
   "language": "python",
   "name": "python3"
  },
  "language_info": {
   "codemirror_mode": {
    "name": "ipython",
    "version": 3
   },
   "file_extension": ".py",
   "mimetype": "text/x-python",
   "name": "python",
   "nbconvert_exporter": "python",
   "pygments_lexer": "ipython3",
   "version": "3.10.7"
  }
 },
 "nbformat": 4,
 "nbformat_minor": 5
}
