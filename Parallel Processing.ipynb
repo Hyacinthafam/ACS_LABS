{
 "cells": [
  {
   "cell_type": "code",
   "execution_count": 1,
   "id": "8b1193f7",
   "metadata": {},
   "outputs": [
    {
     "name": "stdout",
     "output_type": "stream",
     "text": [
      "Defaulting to user installation because normal site-packages is not writeable\n",
      "Collecting multiprocessing\n",
      "  Downloading multiprocessing-2.6.2.1.tar.gz (108 kB)\n",
      "     -------------------------------------- 108.0/108.0 kB 2.1 MB/s eta 0:00:00\n",
      "  Preparing metadata (setup.py): started\n",
      "  Preparing metadata (setup.py): finished with status 'error'\n",
      "Note: you may need to restart the kernel to use updated packages.\n"
     ]
    },
    {
     "name": "stderr",
     "output_type": "stream",
     "text": [
      "  error: subprocess-exited-with-error\n",
      "  \n",
      "  python setup.py egg_info did not run successfully.\n",
      "  exit code: 1\n",
      "  \n",
      "  [7 lines of output]\n",
      "  Traceback (most recent call last):\n",
      "    File \"<string>\", line 2, in <module>\n",
      "    File \"<pip-setuptools-caller>\", line 34, in <module>\n",
      "    File \"C:\\Users\\730803\\AppData\\Local\\Temp\\pip-install-89qvtn14\\multiprocessing_b79e578b973c4e5ab3a329f449c8b39c\\setup.py\", line 94\n",
      "      print 'Macros:'\n",
      "      ^^^^^^^^^^^^^^^\n",
      "  SyntaxError: Missing parentheses in call to 'print'. Did you mean print(...)?\n",
      "  [end of output]\n",
      "  \n",
      "  note: This error originates from a subprocess, and is likely not a problem with pip.\n",
      "error: metadata-generation-failed\n",
      "\n",
      "Encountered error while generating package metadata.\n",
      "\n",
      "See above for output.\n",
      "\n",
      "note: This is an issue with the package mentioned above, not pip.\n",
      "hint: See above for details.\n",
      "\n",
      "[notice] A new release of pip available: 22.3 -> 23.0.1\n",
      "[notice] To update, run: python.exe -m pip install --upgrade pip\n"
     ]
    }
   ],
   "source": [
    "pip install multiprocessing"
   ]
  },
  {
   "cell_type": "code",
   "execution_count": 1,
   "id": "81657861",
   "metadata": {},
   "outputs": [
    {
     "name": "stdout",
     "output_type": "stream",
     "text": [
      "Number of processors:  4\n"
     ]
    }
   ],
   "source": [
    "import multiprocessing as mp\n",
    "print (\"Number of processors: \", mp.cpu_count())"
   ]
  },
  {
   "cell_type": "code",
   "execution_count": null,
   "id": "360ad10f",
   "metadata": {},
   "outputs": [],
   "source": []
  },
  {
   "cell_type": "code",
   "execution_count": 2,
   "id": "bbbc5c61",
   "metadata": {},
   "outputs": [
    {
     "name": "stdout",
     "output_type": "stream",
     "text": [
      "Number of processors:  4\n"
     ]
    }
   ],
   "source": [
    "import multiprocessing as mp\n",
    "print (\"Number of processors: \", mp.cpu_count())"
   ]
  },
  {
   "cell_type": "code",
   "execution_count": 3,
   "id": "e612f558",
   "metadata": {},
   "outputs": [
    {
     "ename": "SyntaxError",
     "evalue": "expected ':' (1371810780.py, line 1)",
     "output_type": "error",
     "traceback": [
      "\u001b[1;36m  Cell \u001b[1;32mIn [3], line 1\u001b[1;36m\u001b[0m\n\u001b[1;33m    def randomArray(row=20, columns=5);\u001b[0m\n\u001b[1;37m                                      ^\u001b[0m\n\u001b[1;31mSyntaxError\u001b[0m\u001b[1;31m:\u001b[0m expected ':'\n"
     ]
    }
   ],
   "source": [
    "def randomArray(row=20, columns=5);\n",
    "ranArr = np.random.randint(0, 10, size=[rows, columns])\n",
    "return randArr"
   ]
  },
  {
   "cell_type": "code",
   "execution_count": 4,
   "id": "a896112a",
   "metadata": {},
   "outputs": [
    {
     "ename": "SyntaxError",
     "evalue": "expected ':' (2406022380.py, line 3)",
     "output_type": "error",
     "traceback": [
      "\u001b[1;36m  Cell \u001b[1;32mIn [4], line 3\u001b[1;36m\u001b[0m\n\u001b[1;33m    def randomArray(row=20, columns=5);\u001b[0m\n\u001b[1;37m                                      ^\u001b[0m\n\u001b[1;31mSyntaxError\u001b[0m\u001b[1;31m:\u001b[0m expected ':'\n"
     ]
    }
   ],
   "source": [
    "random.randint(low, high=None, size=None, dtype=int)\n",
    "\n",
    "def randomArray(row=20, columns=5);\n",
    "randArr = np.random.randint(0, 10, size=[rows, columns])\n",
    "return randArr"
   ]
  },
  {
   "cell_type": "code",
   "execution_count": 5,
   "id": "dffdc18a",
   "metadata": {},
   "outputs": [
    {
     "name": "stdout",
     "output_type": "stream",
     "text": [
      "Defaulting to user installation because normal site-packages is not writeable\n",
      "Requirement already satisfied: numpy in c:\\program files\\python310\\lib\\site-packages (1.23.4)\n",
      "Note: you may need to restart the kernel to use updated packages.\n"
     ]
    },
    {
     "name": "stderr",
     "output_type": "stream",
     "text": [
      "\n",
      "[notice] A new release of pip available: 22.3 -> 23.0.1\n",
      "[notice] To update, run: python.exe -m pip install --upgrade pip\n"
     ]
    }
   ],
   "source": [
    "pip install numpy\n"
   ]
  },
  {
   "cell_type": "code",
   "execution_count": 6,
   "id": "262d21fd",
   "metadata": {},
   "outputs": [
    {
     "ename": "SyntaxError",
     "evalue": "invalid syntax (842801469.py, line 1)",
     "output_type": "error",
     "traceback": [
      "\u001b[1;36m  Cell \u001b[1;32mIn [6], line 1\u001b[1;36m\u001b[0m\n\u001b[1;33m    python.exe -m pip install --upgrade pip\u001b[0m\n\u001b[1;37m                  ^\u001b[0m\n\u001b[1;31mSyntaxError\u001b[0m\u001b[1;31m:\u001b[0m invalid syntax\n"
     ]
    }
   ],
   "source": [
    "python.exe -m pip install --upgrade pip"
   ]
  },
  {
   "cell_type": "code",
   "execution_count": 1,
   "id": "652b7c04",
   "metadata": {},
   "outputs": [
    {
     "name": "stdout",
     "output_type": "stream",
     "text": [
      "Number of processors:  4\n"
     ]
    }
   ],
   "source": [
    "import multiprocessing as mp\n",
    "print (\"Number of processors: \", mp.cpu_count())"
   ]
  },
  {
   "cell_type": "code",
   "execution_count": 4,
   "id": "23edfd17",
   "metadata": {},
   "outputs": [
    {
     "ename": "SyntaxError",
     "evalue": "expected ':' (2367967653.py, line 3)",
     "output_type": "error",
     "traceback": [
      "\u001b[1;36m  Cell \u001b[1;32mIn [4], line 3\u001b[1;36m\u001b[0m\n\u001b[1;33m    def randomArray(row=20, columns=5);\u001b[0m\n\u001b[1;37m                                      ^\u001b[0m\n\u001b[1;31mSyntaxError\u001b[0m\u001b[1;31m:\u001b[0m expected ':'\n"
     ]
    }
   ],
   "source": [
    "import numpy as np\n",
    "\n",
    "def randomArray(row=20, columns=5);\n",
    "randArr = np.random.randint(0, 10, size=[rows, columns])\n",
    "return randArr"
   ]
  },
  {
   "cell_type": "code",
   "execution_count": 5,
   "id": "c28d3c7d",
   "metadata": {},
   "outputs": [
    {
     "ename": "SyntaxError",
     "evalue": "expected ':' (2367967653.py, line 3)",
     "output_type": "error",
     "traceback": [
      "\u001b[1;36m  Cell \u001b[1;32mIn [5], line 3\u001b[1;36m\u001b[0m\n\u001b[1;33m    def randomArray(row=20, columns=5);\u001b[0m\n\u001b[1;37m                                      ^\u001b[0m\n\u001b[1;31mSyntaxError\u001b[0m\u001b[1;31m:\u001b[0m expected ':'\n"
     ]
    }
   ],
   "source": [
    "import numpy as np\n",
    "\n",
    "def randomArray(row=20, columns=5);\n",
    "randArr = np.random.randint(0, 10, size=[rows, columns])\n",
    "return randArr"
   ]
  },
  {
   "cell_type": "code",
   "execution_count": 12,
   "id": "1afe7f57",
   "metadata": {},
   "outputs": [
    {
     "ename": "NameError",
     "evalue": "name 'randArr' is not defined",
     "output_type": "error",
     "traceback": [
      "\u001b[1;31m---------------------------------------------------------------------------\u001b[0m",
      "\u001b[1;31mNameError\u001b[0m                                 Traceback (most recent call last)",
      "Cell \u001b[1;32mIn [12], line 6\u001b[0m\n\u001b[0;32m      4\u001b[0m     randArr \u001b[38;5;241m=\u001b[39m np\u001b[38;5;241m.\u001b[39mrandom\u001b[38;5;241m.\u001b[39mrandint(\u001b[38;5;241m0\u001b[39m, \u001b[38;5;241m10\u001b[39m, size\u001b[38;5;241m=\u001b[39m[rows, columns])\n\u001b[0;32m      5\u001b[0m     \u001b[38;5;28;01mreturn\u001b[39;00m randArr\n\u001b[1;32m----> 6\u001b[0m \u001b[38;5;28mprint\u001b[39m (\u001b[43mrandArr\u001b[49m)\n",
      "\u001b[1;31mNameError\u001b[0m: name 'randArr' is not defined"
     ]
    }
   ],
   "source": [
    "import numpy as np\n",
    "\n",
    "def randomArray(row=20, columns=5):\n",
    "    randArr = np.random.randint(0, 10, size=[rows, columns])\n",
    "    return randArr\n",
    "print (randArr)"
   ]
  },
  {
   "cell_type": "code",
   "execution_count": 16,
   "id": "92eda37c",
   "metadata": {},
   "outputs": [
    {
     "ename": "NameError",
     "evalue": "name 'rows' is not defined",
     "output_type": "error",
     "traceback": [
      "\u001b[1;31m---------------------------------------------------------------------------\u001b[0m",
      "\u001b[1;31mNameError\u001b[0m                                 Traceback (most recent call last)",
      "Cell \u001b[1;32mIn [16], line 6\u001b[0m\n\u001b[0;32m      4\u001b[0m     randArr \u001b[38;5;241m=\u001b[39m np\u001b[38;5;241m.\u001b[39mrandom\u001b[38;5;241m.\u001b[39mrandint(\u001b[38;5;241m0\u001b[39m, \u001b[38;5;241m10\u001b[39m, size\u001b[38;5;241m=\u001b[39m[rows, columns])\n\u001b[0;32m      5\u001b[0m     \u001b[38;5;28;01mreturn\u001b[39;00m randArr\n\u001b[1;32m----> 6\u001b[0m \u001b[43mrandomArray\u001b[49m\u001b[43m(\u001b[49m\u001b[43m)\u001b[49m\n",
      "Cell \u001b[1;32mIn [16], line 4\u001b[0m, in \u001b[0;36mrandomArray\u001b[1;34m(row, columns)\u001b[0m\n\u001b[0;32m      3\u001b[0m \u001b[38;5;28;01mdef\u001b[39;00m \u001b[38;5;21mrandomArray\u001b[39m(row\u001b[38;5;241m=\u001b[39m\u001b[38;5;241m20\u001b[39m, columns\u001b[38;5;241m=\u001b[39m\u001b[38;5;241m5\u001b[39m):\n\u001b[1;32m----> 4\u001b[0m     randArr \u001b[38;5;241m=\u001b[39m np\u001b[38;5;241m.\u001b[39mrandom\u001b[38;5;241m.\u001b[39mrandint(\u001b[38;5;241m0\u001b[39m, \u001b[38;5;241m10\u001b[39m, size\u001b[38;5;241m=\u001b[39m[\u001b[43mrows\u001b[49m, columns])\n\u001b[0;32m      5\u001b[0m     \u001b[38;5;28;01mreturn\u001b[39;00m randArr\n",
      "\u001b[1;31mNameError\u001b[0m: name 'rows' is not defined"
     ]
    }
   ],
   "source": [
    "import numpy as np\n",
    "\n",
    "def randomArray(row=20, columns=5):\n",
    "    randArr = np.random.randint(0, 10, size=[rows, columns])\n",
    "    return randArr\n",
    "randomArray()"
   ]
  },
  {
   "cell_type": "code",
   "execution_count": 17,
   "id": "29b7eb80",
   "metadata": {},
   "outputs": [
    {
     "ename": "NameError",
     "evalue": "name 'rows' is not defined",
     "output_type": "error",
     "traceback": [
      "\u001b[1;31m---------------------------------------------------------------------------\u001b[0m",
      "\u001b[1;31mNameError\u001b[0m                                 Traceback (most recent call last)",
      "Cell \u001b[1;32mIn [17], line 6\u001b[0m\n\u001b[0;32m      4\u001b[0m     randArr \u001b[38;5;241m=\u001b[39m np\u001b[38;5;241m.\u001b[39mrandom\u001b[38;5;241m.\u001b[39mrandint(\u001b[38;5;241m0\u001b[39m, \u001b[38;5;241m10\u001b[39m, size\u001b[38;5;241m=\u001b[39m[rows, columns])\n\u001b[0;32m      5\u001b[0m     \u001b[38;5;28;01mreturn\u001b[39;00m randArr\n\u001b[1;32m----> 6\u001b[0m \u001b[43mrandomArray\u001b[49m\u001b[43m(\u001b[49m\u001b[43m)\u001b[49m;\n",
      "Cell \u001b[1;32mIn [17], line 4\u001b[0m, in \u001b[0;36mrandomArray\u001b[1;34m(row, columns)\u001b[0m\n\u001b[0;32m      3\u001b[0m \u001b[38;5;28;01mdef\u001b[39;00m \u001b[38;5;21mrandomArray\u001b[39m(row\u001b[38;5;241m=\u001b[39m\u001b[38;5;241m20\u001b[39m, columns\u001b[38;5;241m=\u001b[39m\u001b[38;5;241m5\u001b[39m):\n\u001b[1;32m----> 4\u001b[0m     randArr \u001b[38;5;241m=\u001b[39m np\u001b[38;5;241m.\u001b[39mrandom\u001b[38;5;241m.\u001b[39mrandint(\u001b[38;5;241m0\u001b[39m, \u001b[38;5;241m10\u001b[39m, size\u001b[38;5;241m=\u001b[39m[\u001b[43mrows\u001b[49m, columns])\n\u001b[0;32m      5\u001b[0m     \u001b[38;5;28;01mreturn\u001b[39;00m randArr\n",
      "\u001b[1;31mNameError\u001b[0m: name 'rows' is not defined"
     ]
    }
   ],
   "source": [
    "import numpy as np\n",
    "\n",
    "def randomArray(row=20, columns=5):\n",
    "    randArr = np.random.randint(0, 10, size=[rows, columns])\n",
    "    return randArr\n",
    "randomArray();"
   ]
  },
  {
   "cell_type": "code",
   "execution_count": 20,
   "id": "ec9c54a7",
   "metadata": {},
   "outputs": [
    {
     "data": {
      "text/plain": [
       "array([[8, 5, 9, 6, 0],\n",
       "       [3, 1, 7, 3, 0],\n",
       "       [4, 6, 3, 5, 2],\n",
       "       [0, 0, 9, 3, 8],\n",
       "       [7, 0, 2, 6, 1],\n",
       "       [7, 8, 2, 6, 0],\n",
       "       [3, 0, 0, 2, 1],\n",
       "       [2, 0, 8, 1, 4],\n",
       "       [0, 3, 2, 4, 8],\n",
       "       [0, 5, 4, 6, 3],\n",
       "       [0, 8, 5, 4, 2],\n",
       "       [3, 7, 5, 2, 5],\n",
       "       [2, 5, 6, 9, 7],\n",
       "       [3, 3, 8, 5, 8],\n",
       "       [4, 0, 5, 4, 4],\n",
       "       [4, 5, 5, 7, 7],\n",
       "       [0, 1, 6, 9, 6],\n",
       "       [7, 6, 2, 6, 3],\n",
       "       [0, 4, 8, 3, 8],\n",
       "       [0, 4, 0, 4, 3]])"
      ]
     },
     "execution_count": 20,
     "metadata": {},
     "output_type": "execute_result"
    }
   ],
   "source": [
    "import numpy as np\n",
    "\n",
    "def randomArray(rows=20, columns=5):\n",
    "    randArr = np.random.randint(0, 10, size=[rows, columns])\n",
    "    return randArr\n",
    "randomArray()"
   ]
  },
  {
   "cell_type": "code",
   "execution_count": null,
   "id": "8c6f21b0",
   "metadata": {},
   "outputs": [],
   "source": []
  },
  {
   "cell_type": "code",
   "execution_count": null,
   "id": "b5ed83bb",
   "metadata": {},
   "outputs": [],
   "source": []
  },
  {
   "cell_type": "code",
   "execution_count": null,
   "id": "435940e9",
   "metadata": {},
   "outputs": [],
   "source": []
  }
 ],
 "metadata": {
  "kernelspec": {
   "display_name": "Python 3 (ipykernel)",
   "language": "python",
   "name": "python3"
  },
  "language_info": {
   "codemirror_mode": {
    "name": "ipython",
    "version": 3
   },
   "file_extension": ".py",
   "mimetype": "text/x-python",
   "name": "python",
   "nbconvert_exporter": "python",
   "pygments_lexer": "ipython3",
   "version": "3.10.7"
  }
 },
 "nbformat": 4,
 "nbformat_minor": 5
}
