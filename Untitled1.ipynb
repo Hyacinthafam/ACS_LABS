{
 "cells": [
  {
   "cell_type": "code",
   "execution_count": 1,
   "id": "413b5962",
   "metadata": {},
   "outputs": [
    {
     "name": "stdout",
     "output_type": "stream",
     "text": [
      "-0.7568024953079282\n",
      "0.25\n"
     ]
    }
   ],
   "source": [
    "import math\n",
    "print(math.sin(4))\n",
    "print((1/2.0) **2 )"
   ]
  },
  {
   "cell_type": "code",
   "execution_count": 2,
   "id": "efc2adf2",
   "metadata": {},
   "outputs": [
    {
     "name": "stdout",
     "output_type": "stream",
     "text": [
      "-0.7568024953079282\n",
      "0.25\n"
     ]
    }
   ],
   "source": [
    "print(math.sin(4))\n",
    "print((1/2.0) **2 )"
   ]
  },
  {
   "cell_type": "code",
   "execution_count": 3,
   "id": "7dc98685",
   "metadata": {},
   "outputs": [
    {
     "ename": "SyntaxError",
     "evalue": "invalid non-printable character U+00A0 (1013866842.py, line 2)",
     "output_type": "error",
     "traceback": [
      "\u001b[1;36m  Cell \u001b[1;32mIn [3], line 2\u001b[1;36m\u001b[0m\n\u001b[1;33m    import matplotlib.pyplot as plt # Initial population of bacteria\u001b[0m\n\u001b[1;37m                                   ^\u001b[0m\n\u001b[1;31mSyntaxError\u001b[0m\u001b[1;31m:\u001b[0m invalid non-printable character U+00A0\n"
     ]
    }
   ],
   "source": [
    "import numpy as np\n",
    "import matplotlib.pyplot as plt # Initial population of bacteria\n",
    "population = 100 # Continuous growth rate of 10% per hour\n",
    "growth_rate = 0.10 # Time steps (0.0001, 0.25, 0.5) in hours\n",
    "time_steps = [0.0001, 0.25, 0.5] # Simulation length of 200 hours\n",
    "simulation_length = 200 # Plotting variables\n",
    "times = []\n",
    "populations = [] # Loop through each time step\n",
    "for time_step in time_steps:\n",
    "    # Reset variables for each time step\n",
    "    time = 0\n",
    "    population = 100\n",
    "    times = []\n",
    "    populations = []     # Loop through the simulation length\n",
    "    while time <= simulation_length:\n",
    "        # Calculate the new population\n",
    "        population = population * (1 + growth_rate * time_step)\n",
    "        # Add the new time and population to the arrays\n",
    "        times.append(time)\n",
    "        populations.append(population)\n",
    "        # Increase the time by the time step\n",
    "        time += time_step     # Plot the population against time\n",
    "    plt.plot(times, populations, label=f\"Time step: {time_step}\") # Add a legend to the plot\n",
    "plt.legend() # Show the plot\n",
    "plt.show()"
   ]
  },
  {
   "cell_type": "code",
   "execution_count": 4,
   "id": "fc9bb2b0",
   "metadata": {},
   "outputs": [],
   "source": [
    "import numpy as np\n",
    "import matplotlib.pyplot as plt"
   ]
  },
  {
   "cell_type": "code",
   "execution_count": 5,
   "id": "97f2f38c",
   "metadata": {},
   "outputs": [],
   "source": [
    "import matplotlib.pyplot as plt"
   ]
  },
  {
   "cell_type": "code",
   "execution_count": 1,
   "id": "5326e7a0",
   "metadata": {},
   "outputs": [],
   "source": [
    "import matplotlib.pyplot as plt"
   ]
  },
  {
   "cell_type": "code",
   "execution_count": 2,
   "id": "e2b06785",
   "metadata": {},
   "outputs": [
    {
     "ename": "SyntaxError",
     "evalue": "invalid non-printable character U+00A0 (1013866842.py, line 2)",
     "output_type": "error",
     "traceback": [
      "\u001b[1;36m  Cell \u001b[1;32mIn [2], line 2\u001b[1;36m\u001b[0m\n\u001b[1;33m    import matplotlib.pyplot as plt # Initial population of bacteria\u001b[0m\n\u001b[1;37m                                   ^\u001b[0m\n\u001b[1;31mSyntaxError\u001b[0m\u001b[1;31m:\u001b[0m invalid non-printable character U+00A0\n"
     ]
    }
   ],
   "source": [
    "import numpy as np\n",
    "import matplotlib.pyplot as plt \n",
    "\n",
    "# Initial population of bacteria\n",
    "initial_population = 100 \n",
    "\n",
    "# Continuous growth rate of 10% per hour\n",
    "growth_rate = 0.10 \n",
    "\n",
    "# Time steps (0.25, 0.5, 1) in hours\n",
    "time_steps = [0.25, 0.5, 1] \n",
    "\n",
    "# Simulation length of 200 hours\n",
    "simulation_length = 200 \n",
    "\n",
    "# Plotting variables\n",
    "times = []\n",
    "populations = [] \n",
    "\n",
    "# Loop through each time step\n",
    "for time_step in time_steps:\n",
    "    # Reset variables for each time step\n",
    "    time = 0\n",
    "    population = initial_population\n",
    "    times = []\n",
    "    populations = []    \n",
    "    \n",
    "    # Loop through the simulation length\n",
    "    while time <= simulation_length:\n",
    "        # Calculate the new population\n",
    "        population = population * (1 + growth_rate * time_step)\n",
    "        \n",
    "        # Add the new time and population to the arrays\n",
    "        times.append(time)\n",
    "        populations.append(population)\n",
    "        \n",
    "        # Increase the time by the time step\n",
    "        time += time_step    \n",
    "        \n",
    "        # Plot the population against time\n",
    "    plt.plot(times, populations, label=f\"Time step: {time_step}\") \n",
    "    \n",
    "    # Add a legend to the plot\n",
    "plt.legend() \n",
    "\n",
    "# Show the plot\n",
    "plt.show()"
   ]
  },
  {
   "cell_type": "code",
   "execution_count": 3,
   "id": "2a4fc661",
   "metadata": {},
   "outputs": [
    {
     "ename": "ModuleNotFoundError",
     "evalue": "No module named 'matlotip'",
     "output_type": "error",
     "traceback": [
      "\u001b[1;31m---------------------------------------------------------------------------\u001b[0m",
      "\u001b[1;31mModuleNotFoundError\u001b[0m                       Traceback (most recent call last)",
      "Cell \u001b[1;32mIn [3], line 2\u001b[0m\n\u001b[0;32m      1\u001b[0m \u001b[38;5;28;01mimport\u001b[39;00m \u001b[38;5;21;01mnumpy\u001b[39;00m \u001b[38;5;28;01mas\u001b[39;00m \u001b[38;5;21;01mnp\u001b[39;00m\n\u001b[1;32m----> 2\u001b[0m \u001b[38;5;28;01mimport\u001b[39;00m \u001b[38;5;21;01mmatlotip\u001b[39;00m\u001b[38;5;21;01m.\u001b[39;00m\u001b[38;5;21;01mpyplot\u001b[39;00m \u001b[38;5;28;01mas\u001b[39;00m \u001b[38;5;21;01mplt\u001b[39;00m\n",
      "\u001b[1;31mModuleNotFoundError\u001b[0m: No module named 'matlotip'"
     ]
    }
   ],
   "source": [
    "import numpy as np\n",
    "import matlotip.pyplot as plt"
   ]
  },
  {
   "cell_type": "code",
   "execution_count": 4,
   "id": "909924dd",
   "metadata": {},
   "outputs": [],
   "source": [
    "import numpy as np\n",
    "import matplotlib.pyplot as plt"
   ]
  },
  {
   "cell_type": "code",
   "execution_count": 5,
   "id": "de8f6e84",
   "metadata": {},
   "outputs": [
    {
     "ename": "SyntaxError",
     "evalue": "invalid non-printable character U+00A0 (2500812186.py, line 2)",
     "output_type": "error",
     "traceback": [
      "\u001b[1;36m  Cell \u001b[1;32mIn [5], line 2\u001b[1;36m\u001b[0m\n\u001b[1;33m    import matplotlib.pyplot as plt\u001b[0m\n\u001b[1;37m                                   ^\u001b[0m\n\u001b[1;31mSyntaxError\u001b[0m\u001b[1;31m:\u001b[0m invalid non-printable character U+00A0\n"
     ]
    }
   ],
   "source": [
    "import numpy as np\n",
    "import matplotlib.pyplot as plt \n",
    "\n",
    "# Initial population of bacteria\n",
    "initial_population = 100 \n",
    "\n",
    "# Continuous growth rate of 10% per hour\n",
    "growth_rate = 0.10 \n",
    "\n",
    "# Time steps (0.25, 0.5, 1) in hours\n",
    "time_steps = [0.25, 0.5, 1] \n",
    "\n",
    "# Simulation length of 200 hours\n",
    "simulation_length = 200 \n",
    "\n",
    "# Plotting variables\n",
    "times = []\n",
    "populations = [] \n",
    "\n",
    "# Loop through each time step\n",
    "for time_step in time_steps:\n",
    "    # Reset variables for each time step\n",
    "    time = 0\n",
    "    population = initial_population\n",
    "    times = []\n",
    "    populations = []    \n",
    "    \n",
    "    # Loop through the simulation length\n",
    "    while time <= simulation_length:\n",
    "        # Calculate the new population\n",
    "        population = population * (1 + growth_rate * time_step)\n",
    "        \n",
    "        # Add the new time and population to the arrays\n",
    "        times.append(time)\n",
    "        populations.append(population)\n",
    "        \n",
    "        # Increase the time by the time step\n",
    "        time += time_step    \n",
    "        \n",
    "        # Plot the population against time\n",
    "    plt.plot(times, populations, label=f\"Time step: {time_step}\") \n",
    "    \n",
    "    # Add a legend to the plot\n",
    "plt.legend() \n",
    "\n",
    "# Show the plot\n",
    "plt.show()"
   ]
  },
  {
   "cell_type": "code",
   "execution_count": null,
   "id": "f5ab0563",
   "metadata": {},
   "outputs": [],
   "source": []
  }
 ],
 "metadata": {
  "kernelspec": {
   "display_name": "Python 3 (ipykernel)",
   "language": "python",
   "name": "python3"
  },
  "language_info": {
   "codemirror_mode": {
    "name": "ipython",
    "version": 3
   },
   "file_extension": ".py",
   "mimetype": "text/x-python",
   "name": "python",
   "nbconvert_exporter": "python",
   "pygments_lexer": "ipython3",
   "version": "3.10.7"
  }
 },
 "nbformat": 4,
 "nbformat_minor": 5
}
