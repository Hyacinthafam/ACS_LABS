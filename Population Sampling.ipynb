{
 "cells": [
  {
   "cell_type": "code",
   "execution_count": 2,
   "id": "22c990b9",
   "metadata": {},
   "outputs": [
    {
     "ename": "ModuleNotFoundError",
     "evalue": "No module named 'matplotlib'",
     "output_type": "error",
     "traceback": [
      "\u001b[1;31m---------------------------------------------------------------------------\u001b[0m",
      "\u001b[1;31mModuleNotFoundError\u001b[0m                       Traceback (most recent call last)",
      "Cell \u001b[1;32mIn [2], line 2\u001b[0m\n\u001b[0;32m      1\u001b[0m \u001b[38;5;28;01mimport\u001b[39;00m \u001b[38;5;21;01mnumpy\u001b[39;00m \u001b[38;5;28;01mas\u001b[39;00m \u001b[38;5;21;01mnp\u001b[39;00m\n\u001b[1;32m----> 2\u001b[0m \u001b[38;5;28;01mimport\u001b[39;00m \u001b[38;5;21;01mmatplotlib\u001b[39;00m\u001b[38;5;21;01m.\u001b[39;00m\u001b[38;5;21;01mpyplot\u001b[39;00m \u001b[38;5;28;01mas\u001b[39;00m \u001b[38;5;21;01mplt\u001b[39;00m\n\u001b[0;32m      4\u001b[0m \u001b[38;5;66;03m# Initial population of bacteria\u001b[39;00m\n\u001b[0;32m      5\u001b[0m initial_population \u001b[38;5;241m=\u001b[39m \u001b[38;5;241m100\u001b[39m\n",
      "\u001b[1;31mModuleNotFoundError\u001b[0m: No module named 'matplotlib'"
     ]
    }
   ],
   "source": [
    "import numpy as np\n",
    "import matplotlib.pyplot as plt\n",
    "\n",
    "# Initial population of bacteria\n",
    "initial_population = 100\n",
    "\n",
    "# Continuous growth rate of 10% per hour\n",
    "growth_rate = 0.10\n",
    "\n",
    "# Time steps (0.25, 0.5, 1) in hours\n",
    "time_steps = [0.25, 0.5, 1]\n",
    "\n",
    "# Simulation length of 200 hours\n",
    "simulation_length = 200\n",
    "\n",
    "# Loop through each time step\n",
    "for time_step in time_steps:\n",
    "    # Reset variables for each time step\n",
    "    time = 0\n",
    "    population = initial_population\n",
    "    times = []\n",
    "    populations = []\n",
    "    \n",
    "    # Loop through the simulation length\n",
    "    while time <= simulation_length:\n",
    "        # Calculate the new population\n",
    "        population = population * (1 + growth_rate * time_step)\n",
    "        \n",
    "        # Add the new time and population to the arrays\n",
    "        times.append(time)\n",
    "        populations.append(population)\n",
    "        \n",
    "        # Increase the time by the time step\n",
    "        time += time_step\n",
    "        \n",
    "    # Plot the population against time\n",
    "    plt.plot(times, populations, label=f\"Time step: {time_step}\")\n",
    "\n",
    "# Add a legend to the plot\n",
    "plt.legend()\n",
    "\n",
    "# Show the plot\n",
    "plt.show()"
   ]
  },
  {
   "cell_type": "code",
   "execution_count": 3,
   "id": "a7ec6332",
   "metadata": {},
   "outputs": [
    {
     "ename": "ModuleNotFoundError",
     "evalue": "No module named 'matplotlib'",
     "output_type": "error",
     "traceback": [
      "\u001b[1;31m---------------------------------------------------------------------------\u001b[0m",
      "\u001b[1;31mModuleNotFoundError\u001b[0m                       Traceback (most recent call last)",
      "Cell \u001b[1;32mIn [3], line 2\u001b[0m\n\u001b[0;32m      1\u001b[0m \u001b[38;5;28;01mimport\u001b[39;00m \u001b[38;5;21;01mnumpy\u001b[39;00m \u001b[38;5;28;01mas\u001b[39;00m \u001b[38;5;21;01mnp\u001b[39;00m\n\u001b[1;32m----> 2\u001b[0m \u001b[38;5;28;01mimport\u001b[39;00m \u001b[38;5;21;01mmatplotlib\u001b[39;00m\u001b[38;5;21;01m.\u001b[39;00m\u001b[38;5;21;01mpyplot\u001b[39;00m \u001b[38;5;28;01mas\u001b[39;00m \u001b[38;5;21;01mplt\u001b[39;00m\n\u001b[0;32m      4\u001b[0m \u001b[38;5;66;03m# Initial population of bacteria\u001b[39;00m\n\u001b[0;32m      5\u001b[0m initial_population \u001b[38;5;241m=\u001b[39m \u001b[38;5;241m100\u001b[39m\n",
      "\u001b[1;31mModuleNotFoundError\u001b[0m: No module named 'matplotlib'"
     ]
    }
   ],
   "source": [
    "import numpy as np\n",
    "import matplotlib.pyplot as plt\n",
    "\n",
    "# Initial population of bacteria\n",
    "initial_population = 100\n",
    "\n",
    "# Continuous growth rate of 10% per hour\n",
    "growth_rate = 0.10\n",
    "\n",
    "# Time steps (0.25, 0.5, 1) in hours\n",
    "time_steps = [0.25, 0.5, 1]\n",
    "\n",
    "# Simulation length of 200 hours\n",
    "simulation_length = 200\n",
    "\n",
    "# Loop through each time step\n",
    "for time_step in time_steps:\n",
    "    # Reset variables for each time step\n",
    "    time = 0\n",
    "    population = initial_population\n",
    "    times = []\n",
    "    populations = []\n",
    "    \n",
    "    # Loop through the simulation length\n",
    "    while time <= simulation_length:\n",
    "        # Calculate the new population\n",
    "        population = population * (1 + growth_rate * time_step)\n",
    "        \n",
    "        # Add the new time and population to the arrays\n",
    "        times.append(time)\n",
    "        populations.append(population)\n",
    "        \n",
    "        # Increase the time by the time step\n",
    "        time += time_step\n",
    "        \n",
    "    # Plot the population against time\n",
    "    plt.plot(times, populations, label=f\"Time step: {time_step}\")\n",
    "\n",
    "# Add a legend to the plot\n",
    "plt.legend()\n",
    "\n",
    "# Show the plot\n",
    "plt.show()"
   ]
  },
  {
   "cell_type": "code",
   "execution_count": null,
   "id": "5c403f9e",
   "metadata": {},
   "outputs": [],
   "source": []
  }
 ],
 "metadata": {
  "kernelspec": {
   "display_name": "Python 3 (ipykernel)",
   "language": "python",
   "name": "python3"
  },
  "language_info": {
   "codemirror_mode": {
    "name": "ipython",
    "version": 3
   },
   "file_extension": ".py",
   "mimetype": "text/x-python",
   "name": "python",
   "nbconvert_exporter": "python",
   "pygments_lexer": "ipython3",
   "version": "3.10.7"
  }
 },
 "nbformat": 4,
 "nbformat_minor": 5
}
